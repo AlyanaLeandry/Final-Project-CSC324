{
  "nbformat": 4,
  "nbformat_minor": 0,
  "metadata": {
    "colab": {
      "name": "CSC324 Final Project",
      "provenance": [],
      "collapsed_sections": []
    },
    "kernelspec": {
      "display_name": "Python 3",
      "name": "python3"
    },
    "language_info": {
      "name": "python"
    }
  },
  "cells": [
    {
      "cell_type": "markdown",
      "metadata": {
        "id": "R36W4ByqbO6K"
      },
      "source": [
        "## **Diversity of Well-Known** **Companies**"
      ]
    },
    {
      "cell_type": "markdown",
      "metadata": {
        "id": "8Xgpdu9ZbSDX"
      },
      "source": [
        "##Introduction\n"
      ]
    },
    {
      "cell_type": "markdown",
      "metadata": {
        "id": "HjWdlwD8bVZ-"
      },
      "source": [
        "In a workplace, there is predominantly more people from the white race over any other race.  Sometimes there are even more people employed from the white race than all other races combined.  This is a controversial topic because it makes you start to wonder \n",
        "what companies around me hire more of the white race over any others?\n",
        "\n",
        "Statistics of common companies that we use frequently will be shown and if they are a more diverse company or if they in fact do not have any diversity."
      ]
    },
    {
      "cell_type": "markdown",
      "metadata": {
        "id": "fuzcGa2MYm0V"
      },
      "source": [
        "##Data Cleaning with Pandas"
      ]
    },
    {
      "cell_type": "code",
      "metadata": {
        "id": "HOOHzWvlYn-X"
      },
      "source": [
        "import pandas as pd\n",
        "import numpy as np\n",
        "import matplotlib as mpl\n",
        "import matplotlib.pyplot as plt\n",
        "import seaborn as sns"
      ],
      "execution_count": 118,
      "outputs": []
    },
    {
      "cell_type": "markdown",
      "metadata": {
        "id": "2oNjql1gY3RA"
      },
      "source": [
        "##Reading a csv file from the working directory"
      ]
    },
    {
      "cell_type": "code",
      "metadata": {
        "id": "igviqrA-ZLSr"
      },
      "source": [
        "data = pd.read_csv(\"data.csv\")"
      ],
      "execution_count": 119,
      "outputs": []
    },
    {
      "cell_type": "markdown",
      "metadata": {
        "id": "5jjWNbEHZg1x"
      },
      "source": [
        "#Displaying the first few lines"
      ]
    },
    {
      "cell_type": "code",
      "metadata": {
        "id": "XKo27fQnZj4m",
        "colab": {
          "base_uri": "https://localhost:8080/",
          "height": 206
        },
        "outputId": "0ca289d6-dcfd-4b2b-c176-ceae5831e855"
      },
      "source": [
        "data.head()"
      ],
      "execution_count": 120,
      "outputs": [
        {
          "output_type": "execute_result",
          "data": {
            "text/html": [
              "<div>\n",
              "<style scoped>\n",
              "    .dataframe tbody tr th:only-of-type {\n",
              "        vertical-align: middle;\n",
              "    }\n",
              "\n",
              "    .dataframe tbody tr th {\n",
              "        vertical-align: top;\n",
              "    }\n",
              "\n",
              "    .dataframe thead th {\n",
              "        text-align: right;\n",
              "    }\n",
              "</style>\n",
              "<table border=\"1\" class=\"dataframe\">\n",
              "  <thead>\n",
              "    <tr style=\"text-align: right;\">\n",
              "      <th></th>\n",
              "      <th>company</th>\n",
              "      <th>percentage</th>\n",
              "      <th>demographics</th>\n",
              "      <th>job_category</th>\n",
              "    </tr>\n",
              "  </thead>\n",
              "  <tbody>\n",
              "    <tr>\n",
              "      <th>0</th>\n",
              "      <td>anonymous</td>\n",
              "      <td>0.0</td>\n",
              "      <td>Hispanic_or_Latino</td>\n",
              "      <td>Professionals</td>\n",
              "    </tr>\n",
              "    <tr>\n",
              "      <th>1</th>\n",
              "      <td>anonymous</td>\n",
              "      <td>0.0</td>\n",
              "      <td>Hispanic_or_Latino</td>\n",
              "      <td>Professionals</td>\n",
              "    </tr>\n",
              "    <tr>\n",
              "      <th>2</th>\n",
              "      <td>anonymous</td>\n",
              "      <td>0.8</td>\n",
              "      <td>Hispanic_or_Latino</td>\n",
              "      <td>Professionals</td>\n",
              "    </tr>\n",
              "    <tr>\n",
              "      <th>3</th>\n",
              "      <td>anonymous</td>\n",
              "      <td>1.3</td>\n",
              "      <td>Hispanic_or_Latino</td>\n",
              "      <td>Professionals</td>\n",
              "    </tr>\n",
              "    <tr>\n",
              "      <th>4</th>\n",
              "      <td>anonymous</td>\n",
              "      <td>1.6</td>\n",
              "      <td>Hispanic_or_Latino</td>\n",
              "      <td>Professionals</td>\n",
              "    </tr>\n",
              "  </tbody>\n",
              "</table>\n",
              "</div>"
            ],
            "text/plain": [
              "     company  percentage        demographics   job_category\n",
              "0  anonymous         0.0  Hispanic_or_Latino  Professionals\n",
              "1  anonymous         0.0  Hispanic_or_Latino  Professionals\n",
              "2  anonymous         0.8  Hispanic_or_Latino  Professionals\n",
              "3  anonymous         1.3  Hispanic_or_Latino  Professionals\n",
              "4  anonymous         1.6  Hispanic_or_Latino  Professionals"
            ]
          },
          "metadata": {},
          "execution_count": 120
        }
      ]
    },
    {
      "cell_type": "markdown",
      "metadata": {
        "id": "XmhCigELw4tw"
      },
      "source": [
        "##Displaying Basic Statistics"
      ]
    },
    {
      "cell_type": "code",
      "metadata": {
        "id": "QtNZe1mpwnt3",
        "colab": {
          "base_uri": "https://localhost:8080/",
          "height": 300
        },
        "outputId": "b4a4da69-b669-4aae-eca8-794ce64135f4"
      },
      "source": [
        "data.describe()"
      ],
      "execution_count": 121,
      "outputs": [
        {
          "output_type": "execute_result",
          "data": {
            "text/html": [
              "<div>\n",
              "<style scoped>\n",
              "    .dataframe tbody tr th:only-of-type {\n",
              "        vertical-align: middle;\n",
              "    }\n",
              "\n",
              "    .dataframe tbody tr th {\n",
              "        vertical-align: top;\n",
              "    }\n",
              "\n",
              "    .dataframe thead th {\n",
              "        text-align: right;\n",
              "    }\n",
              "</style>\n",
              "<table border=\"1\" class=\"dataframe\">\n",
              "  <thead>\n",
              "    <tr style=\"text-align: right;\">\n",
              "      <th></th>\n",
              "      <th>percentage</th>\n",
              "    </tr>\n",
              "  </thead>\n",
              "  <tbody>\n",
              "    <tr>\n",
              "      <th>count</th>\n",
              "      <td>16042.000000</td>\n",
              "    </tr>\n",
              "    <tr>\n",
              "      <th>mean</th>\n",
              "      <td>17.164643</td>\n",
              "    </tr>\n",
              "    <tr>\n",
              "      <th>std</th>\n",
              "      <td>19.614409</td>\n",
              "    </tr>\n",
              "    <tr>\n",
              "      <th>min</th>\n",
              "      <td>0.000000</td>\n",
              "    </tr>\n",
              "    <tr>\n",
              "      <th>25%</th>\n",
              "      <td>2.700000</td>\n",
              "    </tr>\n",
              "    <tr>\n",
              "      <th>50%</th>\n",
              "      <td>9.500000</td>\n",
              "    </tr>\n",
              "    <tr>\n",
              "      <th>75%</th>\n",
              "      <td>24.900000</td>\n",
              "    </tr>\n",
              "    <tr>\n",
              "      <th>max</th>\n",
              "      <td>100.000000</td>\n",
              "    </tr>\n",
              "  </tbody>\n",
              "</table>\n",
              "</div>"
            ],
            "text/plain": [
              "         percentage\n",
              "count  16042.000000\n",
              "mean      17.164643\n",
              "std       19.614409\n",
              "min        0.000000\n",
              "25%        2.700000\n",
              "50%        9.500000\n",
              "75%       24.900000\n",
              "max      100.000000"
            ]
          },
          "metadata": {},
          "execution_count": 121
        }
      ]
    },
    {
      "cell_type": "markdown",
      "metadata": {
        "id": "nK0BiRbzxILE"
      },
      "source": [
        "##Displaying unique values"
      ]
    },
    {
      "cell_type": "code",
      "metadata": {
        "id": "Lgye8Rqcuihs",
        "colab": {
          "base_uri": "https://localhost:8080/"
        },
        "outputId": "c0028855-06ee-4c37-d252-eb165ae4686b"
      },
      "source": [
        "data['demographics'].unique()"
      ],
      "execution_count": 122,
      "outputs": [
        {
          "output_type": "execute_result",
          "data": {
            "text/plain": [
              "array(['Hispanic_or_Latino', 'White', 'Black_or_African_American',\n",
              "       'Asian', 'Female_total', 'White_female', 'Asian_female',\n",
              "       'Black_or_African_American_female', 'Hispanic_or_Latino_female',\n",
              "       'Women_of_color', 'Underrepresented_minorities_female',\n",
              "       'People_of_color', 'Underrepresented_minorities'], dtype=object)"
            ]
          },
          "metadata": {},
          "execution_count": 122
        }
      ]
    },
    {
      "cell_type": "code",
      "metadata": {
        "id": "qFxWS07D6CEt",
        "colab": {
          "base_uri": "https://localhost:8080/",
          "height": 206
        },
        "outputId": "0726ac66-0dec-49e2-961c-9f9ae340cd94"
      },
      "source": [
        "filename = \"data.csv\"\n",
        "score_data = pd.read_csv(filename)\n",
        "score_data.head()"
      ],
      "execution_count": 123,
      "outputs": [
        {
          "output_type": "execute_result",
          "data": {
            "text/html": [
              "<div>\n",
              "<style scoped>\n",
              "    .dataframe tbody tr th:only-of-type {\n",
              "        vertical-align: middle;\n",
              "    }\n",
              "\n",
              "    .dataframe tbody tr th {\n",
              "        vertical-align: top;\n",
              "    }\n",
              "\n",
              "    .dataframe thead th {\n",
              "        text-align: right;\n",
              "    }\n",
              "</style>\n",
              "<table border=\"1\" class=\"dataframe\">\n",
              "  <thead>\n",
              "    <tr style=\"text-align: right;\">\n",
              "      <th></th>\n",
              "      <th>company</th>\n",
              "      <th>percentage</th>\n",
              "      <th>demographics</th>\n",
              "      <th>job_category</th>\n",
              "    </tr>\n",
              "  </thead>\n",
              "  <tbody>\n",
              "    <tr>\n",
              "      <th>0</th>\n",
              "      <td>anonymous</td>\n",
              "      <td>0.0</td>\n",
              "      <td>Hispanic_or_Latino</td>\n",
              "      <td>Professionals</td>\n",
              "    </tr>\n",
              "    <tr>\n",
              "      <th>1</th>\n",
              "      <td>anonymous</td>\n",
              "      <td>0.0</td>\n",
              "      <td>Hispanic_or_Latino</td>\n",
              "      <td>Professionals</td>\n",
              "    </tr>\n",
              "    <tr>\n",
              "      <th>2</th>\n",
              "      <td>anonymous</td>\n",
              "      <td>0.8</td>\n",
              "      <td>Hispanic_or_Latino</td>\n",
              "      <td>Professionals</td>\n",
              "    </tr>\n",
              "    <tr>\n",
              "      <th>3</th>\n",
              "      <td>anonymous</td>\n",
              "      <td>1.3</td>\n",
              "      <td>Hispanic_or_Latino</td>\n",
              "      <td>Professionals</td>\n",
              "    </tr>\n",
              "    <tr>\n",
              "      <th>4</th>\n",
              "      <td>anonymous</td>\n",
              "      <td>1.6</td>\n",
              "      <td>Hispanic_or_Latino</td>\n",
              "      <td>Professionals</td>\n",
              "    </tr>\n",
              "  </tbody>\n",
              "</table>\n",
              "</div>"
            ],
            "text/plain": [
              "     company  percentage        demographics   job_category\n",
              "0  anonymous         0.0  Hispanic_or_Latino  Professionals\n",
              "1  anonymous         0.0  Hispanic_or_Latino  Professionals\n",
              "2  anonymous         0.8  Hispanic_or_Latino  Professionals\n",
              "3  anonymous         1.3  Hispanic_or_Latino  Professionals\n",
              "4  anonymous         1.6  Hispanic_or_Latino  Professionals"
            ]
          },
          "metadata": {},
          "execution_count": 123
        }
      ]
    },
    {
      "cell_type": "code",
      "metadata": {
        "id": "E1GpUdDBOQrD",
        "colab": {
          "base_uri": "https://localhost:8080/",
          "height": 206
        },
        "outputId": "a3a73a09-5a02-4838-aa24-639961429dca"
      },
      "source": [
        "score_data.rename(columns={\"job_category\": \"job category\"},inplace=True)\n",
        "score_data.head()"
      ],
      "execution_count": 124,
      "outputs": [
        {
          "output_type": "execute_result",
          "data": {
            "text/html": [
              "<div>\n",
              "<style scoped>\n",
              "    .dataframe tbody tr th:only-of-type {\n",
              "        vertical-align: middle;\n",
              "    }\n",
              "\n",
              "    .dataframe tbody tr th {\n",
              "        vertical-align: top;\n",
              "    }\n",
              "\n",
              "    .dataframe thead th {\n",
              "        text-align: right;\n",
              "    }\n",
              "</style>\n",
              "<table border=\"1\" class=\"dataframe\">\n",
              "  <thead>\n",
              "    <tr style=\"text-align: right;\">\n",
              "      <th></th>\n",
              "      <th>company</th>\n",
              "      <th>percentage</th>\n",
              "      <th>demographics</th>\n",
              "      <th>job category</th>\n",
              "    </tr>\n",
              "  </thead>\n",
              "  <tbody>\n",
              "    <tr>\n",
              "      <th>0</th>\n",
              "      <td>anonymous</td>\n",
              "      <td>0.0</td>\n",
              "      <td>Hispanic_or_Latino</td>\n",
              "      <td>Professionals</td>\n",
              "    </tr>\n",
              "    <tr>\n",
              "      <th>1</th>\n",
              "      <td>anonymous</td>\n",
              "      <td>0.0</td>\n",
              "      <td>Hispanic_or_Latino</td>\n",
              "      <td>Professionals</td>\n",
              "    </tr>\n",
              "    <tr>\n",
              "      <th>2</th>\n",
              "      <td>anonymous</td>\n",
              "      <td>0.8</td>\n",
              "      <td>Hispanic_or_Latino</td>\n",
              "      <td>Professionals</td>\n",
              "    </tr>\n",
              "    <tr>\n",
              "      <th>3</th>\n",
              "      <td>anonymous</td>\n",
              "      <td>1.3</td>\n",
              "      <td>Hispanic_or_Latino</td>\n",
              "      <td>Professionals</td>\n",
              "    </tr>\n",
              "    <tr>\n",
              "      <th>4</th>\n",
              "      <td>anonymous</td>\n",
              "      <td>1.6</td>\n",
              "      <td>Hispanic_or_Latino</td>\n",
              "      <td>Professionals</td>\n",
              "    </tr>\n",
              "  </tbody>\n",
              "</table>\n",
              "</div>"
            ],
            "text/plain": [
              "     company  percentage        demographics   job category\n",
              "0  anonymous         0.0  Hispanic_or_Latino  Professionals\n",
              "1  anonymous         0.0  Hispanic_or_Latino  Professionals\n",
              "2  anonymous         0.8  Hispanic_or_Latino  Professionals\n",
              "3  anonymous         1.3  Hispanic_or_Latino  Professionals\n",
              "4  anonymous         1.6  Hispanic_or_Latino  Professionals"
            ]
          },
          "metadata": {},
          "execution_count": 124
        }
      ]
    },
    {
      "cell_type": "code",
      "metadata": {
        "colab": {
          "base_uri": "https://localhost:8080/",
          "height": 206
        },
        "id": "6FuL2TYum-eY",
        "outputId": "5c09ab04-c58c-4500-a5f5-0db356b6be60"
      },
      "source": [
        "score_data.rename(columns={\"percentage\": \"score\"},inplace=True)\n",
        "score_data.head()"
      ],
      "execution_count": 125,
      "outputs": [
        {
          "output_type": "execute_result",
          "data": {
            "text/html": [
              "<div>\n",
              "<style scoped>\n",
              "    .dataframe tbody tr th:only-of-type {\n",
              "        vertical-align: middle;\n",
              "    }\n",
              "\n",
              "    .dataframe tbody tr th {\n",
              "        vertical-align: top;\n",
              "    }\n",
              "\n",
              "    .dataframe thead th {\n",
              "        text-align: right;\n",
              "    }\n",
              "</style>\n",
              "<table border=\"1\" class=\"dataframe\">\n",
              "  <thead>\n",
              "    <tr style=\"text-align: right;\">\n",
              "      <th></th>\n",
              "      <th>company</th>\n",
              "      <th>score</th>\n",
              "      <th>demographics</th>\n",
              "      <th>job category</th>\n",
              "    </tr>\n",
              "  </thead>\n",
              "  <tbody>\n",
              "    <tr>\n",
              "      <th>0</th>\n",
              "      <td>anonymous</td>\n",
              "      <td>0.0</td>\n",
              "      <td>Hispanic_or_Latino</td>\n",
              "      <td>Professionals</td>\n",
              "    </tr>\n",
              "    <tr>\n",
              "      <th>1</th>\n",
              "      <td>anonymous</td>\n",
              "      <td>0.0</td>\n",
              "      <td>Hispanic_or_Latino</td>\n",
              "      <td>Professionals</td>\n",
              "    </tr>\n",
              "    <tr>\n",
              "      <th>2</th>\n",
              "      <td>anonymous</td>\n",
              "      <td>0.8</td>\n",
              "      <td>Hispanic_or_Latino</td>\n",
              "      <td>Professionals</td>\n",
              "    </tr>\n",
              "    <tr>\n",
              "      <th>3</th>\n",
              "      <td>anonymous</td>\n",
              "      <td>1.3</td>\n",
              "      <td>Hispanic_or_Latino</td>\n",
              "      <td>Professionals</td>\n",
              "    </tr>\n",
              "    <tr>\n",
              "      <th>4</th>\n",
              "      <td>anonymous</td>\n",
              "      <td>1.6</td>\n",
              "      <td>Hispanic_or_Latino</td>\n",
              "      <td>Professionals</td>\n",
              "    </tr>\n",
              "  </tbody>\n",
              "</table>\n",
              "</div>"
            ],
            "text/plain": [
              "     company  score        demographics   job category\n",
              "0  anonymous    0.0  Hispanic_or_Latino  Professionals\n",
              "1  anonymous    0.0  Hispanic_or_Latino  Professionals\n",
              "2  anonymous    0.8  Hispanic_or_Latino  Professionals\n",
              "3  anonymous    1.3  Hispanic_or_Latino  Professionals\n",
              "4  anonymous    1.6  Hispanic_or_Latino  Professionals"
            ]
          },
          "metadata": {},
          "execution_count": 125
        }
      ]
    },
    {
      "cell_type": "code",
      "metadata": {
        "id": "W2y5Bgko50bq",
        "colab": {
          "base_uri": "https://localhost:8080/"
        },
        "outputId": "2317b61d-d5c7-4289-99af-0d796d4918b5"
      },
      "source": [
        "score_data.dtypes"
      ],
      "execution_count": 126,
      "outputs": [
        {
          "output_type": "execute_result",
          "data": {
            "text/plain": [
              "company          object\n",
              "score           float64\n",
              "demographics     object\n",
              "job category     object\n",
              "dtype: object"
            ]
          },
          "metadata": {},
          "execution_count": 126
        }
      ]
    },
    {
      "cell_type": "code",
      "metadata": {
        "id": "z2TRG6Vogkev",
        "colab": {
          "base_uri": "https://localhost:8080/",
          "height": 896
        },
        "outputId": "52a0a28e-0e12-4192-8d86-9f996b59d237"
      },
      "source": [
        "score_data.groupby(\"company\").mean()"
      ],
      "execution_count": 127,
      "outputs": [
        {
          "output_type": "execute_result",
          "data": {
            "text/html": [
              "<div>\n",
              "<style scoped>\n",
              "    .dataframe tbody tr th:only-of-type {\n",
              "        vertical-align: middle;\n",
              "    }\n",
              "\n",
              "    .dataframe tbody tr th {\n",
              "        vertical-align: top;\n",
              "    }\n",
              "\n",
              "    .dataframe thead th {\n",
              "        text-align: right;\n",
              "    }\n",
              "</style>\n",
              "<table border=\"1\" class=\"dataframe\">\n",
              "  <thead>\n",
              "    <tr style=\"text-align: right;\">\n",
              "      <th></th>\n",
              "      <th>score</th>\n",
              "    </tr>\n",
              "    <tr>\n",
              "      <th>company</th>\n",
              "      <th></th>\n",
              "    </tr>\n",
              "  </thead>\n",
              "  <tbody>\n",
              "    <tr>\n",
              "      <th>23andMe</th>\n",
              "      <td>20.319780</td>\n",
              "    </tr>\n",
              "    <tr>\n",
              "      <th>Adobe</th>\n",
              "      <td>16.369231</td>\n",
              "    </tr>\n",
              "    <tr>\n",
              "      <th>Airbnb</th>\n",
              "      <td>19.302198</td>\n",
              "    </tr>\n",
              "    <tr>\n",
              "      <th>Apple</th>\n",
              "      <td>17.090110</td>\n",
              "    </tr>\n",
              "    <tr>\n",
              "      <th>Cisco</th>\n",
              "      <td>16.143956</td>\n",
              "    </tr>\n",
              "    <tr>\n",
              "      <th>Facebook</th>\n",
              "      <td>17.941758</td>\n",
              "    </tr>\n",
              "    <tr>\n",
              "      <th>Google</th>\n",
              "      <td>17.206593</td>\n",
              "    </tr>\n",
              "    <tr>\n",
              "      <th>HP Inc.</th>\n",
              "      <td>15.762637</td>\n",
              "    </tr>\n",
              "    <tr>\n",
              "      <th>HPE</th>\n",
              "      <td>15.890110</td>\n",
              "    </tr>\n",
              "    <tr>\n",
              "      <th>Intel</th>\n",
              "      <td>16.396703</td>\n",
              "    </tr>\n",
              "    <tr>\n",
              "      <th>Intuit</th>\n",
              "      <td>19.449451</td>\n",
              "    </tr>\n",
              "    <tr>\n",
              "      <th>LinkedIn</th>\n",
              "      <td>19.076923</td>\n",
              "    </tr>\n",
              "    <tr>\n",
              "      <th>Lyft</th>\n",
              "      <td>17.863736</td>\n",
              "    </tr>\n",
              "    <tr>\n",
              "      <th>MobileIron</th>\n",
              "      <td>17.008791</td>\n",
              "    </tr>\n",
              "    <tr>\n",
              "      <th>NetApp</th>\n",
              "      <td>15.431868</td>\n",
              "    </tr>\n",
              "    <tr>\n",
              "      <th>Nvidia</th>\n",
              "      <td>16.498901</td>\n",
              "    </tr>\n",
              "    <tr>\n",
              "      <th>PayPal</th>\n",
              "      <td>19.341758</td>\n",
              "    </tr>\n",
              "    <tr>\n",
              "      <th>Pinterest</th>\n",
              "      <td>19.434066</td>\n",
              "    </tr>\n",
              "    <tr>\n",
              "      <th>Salesforce</th>\n",
              "      <td>16.036264</td>\n",
              "    </tr>\n",
              "    <tr>\n",
              "      <th>Sanmina</th>\n",
              "      <td>16.935165</td>\n",
              "    </tr>\n",
              "    <tr>\n",
              "      <th>Square</th>\n",
              "      <td>17.482418</td>\n",
              "    </tr>\n",
              "    <tr>\n",
              "      <th>Twitter</th>\n",
              "      <td>17.810989</td>\n",
              "    </tr>\n",
              "    <tr>\n",
              "      <th>Uber</th>\n",
              "      <td>17.600000</td>\n",
              "    </tr>\n",
              "    <tr>\n",
              "      <th>View</th>\n",
              "      <td>14.868132</td>\n",
              "    </tr>\n",
              "    <tr>\n",
              "      <th>anonymous</th>\n",
              "      <td>17.122416</td>\n",
              "    </tr>\n",
              "    <tr>\n",
              "      <th>eBay</th>\n",
              "      <td>18.242857</td>\n",
              "    </tr>\n",
              "  </tbody>\n",
              "</table>\n",
              "</div>"
            ],
            "text/plain": [
              "                score\n",
              "company              \n",
              "23andMe     20.319780\n",
              "Adobe       16.369231\n",
              "Airbnb      19.302198\n",
              "Apple       17.090110\n",
              "Cisco       16.143956\n",
              "Facebook    17.941758\n",
              "Google      17.206593\n",
              "HP Inc.     15.762637\n",
              "HPE         15.890110\n",
              "Intel       16.396703\n",
              "Intuit      19.449451\n",
              "LinkedIn    19.076923\n",
              "Lyft        17.863736\n",
              "MobileIron  17.008791\n",
              "NetApp      15.431868\n",
              "Nvidia      16.498901\n",
              "PayPal      19.341758\n",
              "Pinterest   19.434066\n",
              "Salesforce  16.036264\n",
              "Sanmina     16.935165\n",
              "Square      17.482418\n",
              "Twitter     17.810989\n",
              "Uber        17.600000\n",
              "View        14.868132\n",
              "anonymous   17.122416\n",
              "eBay        18.242857"
            ]
          },
          "metadata": {},
          "execution_count": 127
        }
      ]
    },
    {
      "cell_type": "code",
      "metadata": {
        "id": "TGt51NubFpkm",
        "colab": {
          "base_uri": "https://localhost:8080/",
          "height": 300
        },
        "outputId": "ca53bb4a-e885-4f43-bdb4-c63b6a54ab4d"
      },
      "source": [
        "score_data.groupby(\"job category\").mean()"
      ],
      "execution_count": 128,
      "outputs": [
        {
          "output_type": "execute_result",
          "data": {
            "text/html": [
              "<div>\n",
              "<style scoped>\n",
              "    .dataframe tbody tr th:only-of-type {\n",
              "        vertical-align: middle;\n",
              "    }\n",
              "\n",
              "    .dataframe tbody tr th {\n",
              "        vertical-align: top;\n",
              "    }\n",
              "\n",
              "    .dataframe thead th {\n",
              "        text-align: right;\n",
              "    }\n",
              "</style>\n",
              "<table border=\"1\" class=\"dataframe\">\n",
              "  <thead>\n",
              "    <tr style=\"text-align: right;\">\n",
              "      <th></th>\n",
              "      <th>score</th>\n",
              "    </tr>\n",
              "    <tr>\n",
              "      <th>job category</th>\n",
              "      <th></th>\n",
              "    </tr>\n",
              "  </thead>\n",
              "  <tbody>\n",
              "    <tr>\n",
              "      <th>All Workers</th>\n",
              "      <td>18.140330</td>\n",
              "    </tr>\n",
              "    <tr>\n",
              "      <th>Executives</th>\n",
              "      <td>13.352064</td>\n",
              "    </tr>\n",
              "    <tr>\n",
              "      <th>Executives and Managers</th>\n",
              "      <td>16.178140</td>\n",
              "    </tr>\n",
              "    <tr>\n",
              "      <th>Executives-Managers-Professionals</th>\n",
              "      <td>17.564668</td>\n",
              "    </tr>\n",
              "    <tr>\n",
              "      <th>Managers</th>\n",
              "      <td>16.899560</td>\n",
              "    </tr>\n",
              "    <tr>\n",
              "      <th>Professionals</th>\n",
              "      <td>18.298609</td>\n",
              "    </tr>\n",
              "    <tr>\n",
              "      <th>Sales workers/admin support/technicians and others</th>\n",
              "      <td>19.760124</td>\n",
              "    </tr>\n",
              "  </tbody>\n",
              "</table>\n",
              "</div>"
            ],
            "text/plain": [
              "                                                        score\n",
              "job category                                                 \n",
              "All Workers                                         18.140330\n",
              "Executives                                          13.352064\n",
              "Executives and Managers                             16.178140\n",
              "Executives-Managers-Professionals                   17.564668\n",
              "Managers                                            16.899560\n",
              "Professionals                                       18.298609\n",
              "Sales workers/admin support/technicians and others  19.760124"
            ]
          },
          "metadata": {},
          "execution_count": 128
        }
      ]
    },
    {
      "cell_type": "markdown",
      "metadata": {
        "id": "7C1kbb9jc9VQ"
      },
      "source": [
        "##Understanding how to interpret the demographics"
      ]
    },
    {
      "cell_type": "markdown",
      "metadata": {
        "id": "NkK0X0MOc5T0"
      },
      "source": [
        "In order to understand the data below, you first need ot begin with the data that is given.  You will notice that some say female on it and there is no mention of any other gender.  For example, there is “White” and “White_female”.  In this case, the category is male unless specified as female"
      ]
    },
    {
      "cell_type": "code",
      "metadata": {
        "id": "tA_CxU8MFv3r",
        "colab": {
          "base_uri": "https://localhost:8080/",
          "height": 488
        },
        "outputId": "e808b197-d1a6-4295-c0b9-4820fb22b47b"
      },
      "source": [
        "score_data.groupby(\"demographics\").mean() #maybe show data graphically (maybe donut chart: interactive)# convert to percentages sum //sum * 100: make table bigger"
      ],
      "execution_count": 129,
      "outputs": [
        {
          "output_type": "execute_result",
          "data": {
            "text/html": [
              "<div>\n",
              "<style scoped>\n",
              "    .dataframe tbody tr th:only-of-type {\n",
              "        vertical-align: middle;\n",
              "    }\n",
              "\n",
              "    .dataframe tbody tr th {\n",
              "        vertical-align: top;\n",
              "    }\n",
              "\n",
              "    .dataframe thead th {\n",
              "        text-align: right;\n",
              "    }\n",
              "</style>\n",
              "<table border=\"1\" class=\"dataframe\">\n",
              "  <thead>\n",
              "    <tr style=\"text-align: right;\">\n",
              "      <th></th>\n",
              "      <th>score</th>\n",
              "    </tr>\n",
              "    <tr>\n",
              "      <th>demographics</th>\n",
              "      <th></th>\n",
              "    </tr>\n",
              "  </thead>\n",
              "  <tbody>\n",
              "    <tr>\n",
              "      <th>Asian</th>\n",
              "      <td>27.881929</td>\n",
              "    </tr>\n",
              "    <tr>\n",
              "      <th>Asian_female</th>\n",
              "      <td>9.115478</td>\n",
              "    </tr>\n",
              "    <tr>\n",
              "      <th>Black_or_African_American</th>\n",
              "      <td>2.492464</td>\n",
              "    </tr>\n",
              "    <tr>\n",
              "      <th>Black_or_African_American_female</th>\n",
              "      <td>0.997245</td>\n",
              "    </tr>\n",
              "    <tr>\n",
              "      <th>Female_total</th>\n",
              "      <td>30.119773</td>\n",
              "    </tr>\n",
              "    <tr>\n",
              "      <th>Hispanic_or_Latino</th>\n",
              "      <td>5.440276</td>\n",
              "    </tr>\n",
              "    <tr>\n",
              "      <th>Hispanic_or_Latino_female</th>\n",
              "      <td>1.997083</td>\n",
              "    </tr>\n",
              "    <tr>\n",
              "      <th>People_of_color</th>\n",
              "      <td>38.728849</td>\n",
              "    </tr>\n",
              "    <tr>\n",
              "      <th>Underrepresented_minorities</th>\n",
              "      <td>10.845462</td>\n",
              "    </tr>\n",
              "    <tr>\n",
              "      <th>Underrepresented_minorities_female</th>\n",
              "      <td>4.132010</td>\n",
              "    </tr>\n",
              "    <tr>\n",
              "      <th>White</th>\n",
              "      <td>61.271151</td>\n",
              "    </tr>\n",
              "    <tr>\n",
              "      <th>White_female</th>\n",
              "      <td>16.870665</td>\n",
              "    </tr>\n",
              "    <tr>\n",
              "      <th>Women_of_color</th>\n",
              "      <td>13.247974</td>\n",
              "    </tr>\n",
              "  </tbody>\n",
              "</table>\n",
              "</div>"
            ],
            "text/plain": [
              "                                        score\n",
              "demographics                                 \n",
              "Asian                               27.881929\n",
              "Asian_female                         9.115478\n",
              "Black_or_African_American            2.492464\n",
              "Black_or_African_American_female     0.997245\n",
              "Female_total                        30.119773\n",
              "Hispanic_or_Latino                   5.440276\n",
              "Hispanic_or_Latino_female            1.997083\n",
              "People_of_color                     38.728849\n",
              "Underrepresented_minorities         10.845462\n",
              "Underrepresented_minorities_female   4.132010\n",
              "White                               61.271151\n",
              "White_female                        16.870665\n",
              "Women_of_color                      13.247974"
            ]
          },
          "metadata": {},
          "execution_count": 129
        }
      ]
    },
    {
      "cell_type": "markdown",
      "metadata": {
        "id": "F3frTJrvi_n0"
      },
      "source": [
        "##**Looking at one company in specific**"
      ]
    },
    {
      "cell_type": "markdown",
      "metadata": {
        "id": "QSHKx902igJu"
      },
      "source": [
        "In the cell below, we targetted the company that is anonymous.  We target them because this company shared their diversity statistics but would not disclose their name for legal reasons.  By putting their name as anonymous, they were able to give the correct data and not face any reprecussions for their lack of diversity based on the demographics we look at.  In this sense, there are few hispanics or latinos in the work force for the anonymous company"
      ]
    },
    {
      "cell_type": "code",
      "metadata": {
        "id": "hxcSFNGqZ8WZ",
        "colab": {
          "base_uri": "https://localhost:8080/",
          "height": 423
        },
        "outputId": "0375d124-2fa8-4c29-8a2f-a37dc25b7f33"
      },
      "source": [
        "data.loc[data[\"company\"]==\"anonymous\"]"
      ],
      "execution_count": 138,
      "outputs": [
        {
          "output_type": "execute_result",
          "data": {
            "text/html": [
              "<div>\n",
              "<style scoped>\n",
              "    .dataframe tbody tr th:only-of-type {\n",
              "        vertical-align: middle;\n",
              "    }\n",
              "\n",
              "    .dataframe tbody tr th {\n",
              "        vertical-align: top;\n",
              "    }\n",
              "\n",
              "    .dataframe thead th {\n",
              "        text-align: right;\n",
              "    }\n",
              "</style>\n",
              "<table border=\"1\" class=\"dataframe\">\n",
              "  <thead>\n",
              "    <tr style=\"text-align: right;\">\n",
              "      <th></th>\n",
              "      <th>company</th>\n",
              "      <th>percentage</th>\n",
              "      <th>demographics</th>\n",
              "      <th>job_category</th>\n",
              "    </tr>\n",
              "  </thead>\n",
              "  <tbody>\n",
              "    <tr>\n",
              "      <th>0</th>\n",
              "      <td>anonymous</td>\n",
              "      <td>0.0</td>\n",
              "      <td>Hispanic_or_Latino</td>\n",
              "      <td>Professionals</td>\n",
              "    </tr>\n",
              "    <tr>\n",
              "      <th>1</th>\n",
              "      <td>anonymous</td>\n",
              "      <td>0.0</td>\n",
              "      <td>Hispanic_or_Latino</td>\n",
              "      <td>Professionals</td>\n",
              "    </tr>\n",
              "    <tr>\n",
              "      <th>2</th>\n",
              "      <td>anonymous</td>\n",
              "      <td>0.8</td>\n",
              "      <td>Hispanic_or_Latino</td>\n",
              "      <td>Professionals</td>\n",
              "    </tr>\n",
              "    <tr>\n",
              "      <th>3</th>\n",
              "      <td>anonymous</td>\n",
              "      <td>1.3</td>\n",
              "      <td>Hispanic_or_Latino</td>\n",
              "      <td>Professionals</td>\n",
              "    </tr>\n",
              "    <tr>\n",
              "      <th>4</th>\n",
              "      <td>anonymous</td>\n",
              "      <td>1.6</td>\n",
              "      <td>Hispanic_or_Latino</td>\n",
              "      <td>Professionals</td>\n",
              "    </tr>\n",
              "    <tr>\n",
              "      <th>...</th>\n",
              "      <td>...</td>\n",
              "      <td>...</td>\n",
              "      <td>...</td>\n",
              "      <td>...</td>\n",
              "    </tr>\n",
              "    <tr>\n",
              "      <th>16036</th>\n",
              "      <td>anonymous</td>\n",
              "      <td>41.8</td>\n",
              "      <td>Underrepresented_minorities</td>\n",
              "      <td>Sales workers/admin support/technicians and ot...</td>\n",
              "    </tr>\n",
              "    <tr>\n",
              "      <th>16038</th>\n",
              "      <td>anonymous</td>\n",
              "      <td>44.4</td>\n",
              "      <td>Underrepresented_minorities</td>\n",
              "      <td>Sales workers/admin support/technicians and ot...</td>\n",
              "    </tr>\n",
              "    <tr>\n",
              "      <th>16039</th>\n",
              "      <td>anonymous</td>\n",
              "      <td>47.3</td>\n",
              "      <td>Underrepresented_minorities</td>\n",
              "      <td>Sales workers/admin support/technicians and ot...</td>\n",
              "    </tr>\n",
              "    <tr>\n",
              "      <th>16040</th>\n",
              "      <td>anonymous</td>\n",
              "      <td>48.0</td>\n",
              "      <td>Underrepresented_minorities</td>\n",
              "      <td>Sales workers/admin support/technicians and ot...</td>\n",
              "    </tr>\n",
              "    <tr>\n",
              "      <th>16041</th>\n",
              "      <td>anonymous</td>\n",
              "      <td>51.6</td>\n",
              "      <td>Underrepresented_minorities</td>\n",
              "      <td>Sales workers/admin support/technicians and ot...</td>\n",
              "    </tr>\n",
              "  </tbody>\n",
              "</table>\n",
              "<p>13767 rows × 4 columns</p>\n",
              "</div>"
            ],
            "text/plain": [
              "         company  ...                                       job_category\n",
              "0      anonymous  ...                                      Professionals\n",
              "1      anonymous  ...                                      Professionals\n",
              "2      anonymous  ...                                      Professionals\n",
              "3      anonymous  ...                                      Professionals\n",
              "4      anonymous  ...                                      Professionals\n",
              "...          ...  ...                                                ...\n",
              "16036  anonymous  ...  Sales workers/admin support/technicians and ot...\n",
              "16038  anonymous  ...  Sales workers/admin support/technicians and ot...\n",
              "16039  anonymous  ...  Sales workers/admin support/technicians and ot...\n",
              "16040  anonymous  ...  Sales workers/admin support/technicians and ot...\n",
              "16041  anonymous  ...  Sales workers/admin support/technicians and ot...\n",
              "\n",
              "[13767 rows x 4 columns]"
            ]
          },
          "metadata": {},
          "execution_count": 138
        }
      ]
    },
    {
      "cell_type": "markdown",
      "metadata": {
        "id": "-3Wx0HdmnL7a"
      },
      "source": [
        "##**Finding The Mean, Min, Max, Median, and Standard Deviation**\n",
        "\n",
        "\n",
        "\\"
      ]
    },
    {
      "cell_type": "code",
      "metadata": {
        "id": "-PxMykOQna-6",
        "colab": {
          "base_uri": "https://localhost:8080/",
          "height": 486
        },
        "outputId": "95cde512-464e-442e-8f7c-bb9452f85ee2"
      },
      "source": [
        "data.groupby(['company', 'demographics']).agg({'percentage': ['mean','min','max','median', 'std']})"
      ],
      "execution_count": 131,
      "outputs": [
        {
          "output_type": "execute_result",
          "data": {
            "text/html": [
              "<div>\n",
              "<style scoped>\n",
              "    .dataframe tbody tr th:only-of-type {\n",
              "        vertical-align: middle;\n",
              "    }\n",
              "\n",
              "    .dataframe tbody tr th {\n",
              "        vertical-align: top;\n",
              "    }\n",
              "\n",
              "    .dataframe thead tr th {\n",
              "        text-align: left;\n",
              "    }\n",
              "\n",
              "    .dataframe thead tr:last-of-type th {\n",
              "        text-align: right;\n",
              "    }\n",
              "</style>\n",
              "<table border=\"1\" class=\"dataframe\">\n",
              "  <thead>\n",
              "    <tr>\n",
              "      <th></th>\n",
              "      <th></th>\n",
              "      <th colspan=\"5\" halign=\"left\">percentage</th>\n",
              "    </tr>\n",
              "    <tr>\n",
              "      <th></th>\n",
              "      <th></th>\n",
              "      <th>mean</th>\n",
              "      <th>min</th>\n",
              "      <th>max</th>\n",
              "      <th>median</th>\n",
              "      <th>std</th>\n",
              "    </tr>\n",
              "    <tr>\n",
              "      <th>company</th>\n",
              "      <th>demographics</th>\n",
              "      <th></th>\n",
              "      <th></th>\n",
              "      <th></th>\n",
              "      <th></th>\n",
              "      <th></th>\n",
              "    </tr>\n",
              "  </thead>\n",
              "  <tbody>\n",
              "    <tr>\n",
              "      <th rowspan=\"5\" valign=\"top\">23andMe</th>\n",
              "      <th>Asian</th>\n",
              "      <td>19.285714</td>\n",
              "      <td>5.9</td>\n",
              "      <td>28.4</td>\n",
              "      <td>21.7</td>\n",
              "      <td>7.479177</td>\n",
              "    </tr>\n",
              "    <tr>\n",
              "      <th>Asian_female</th>\n",
              "      <td>11.342857</td>\n",
              "      <td>5.9</td>\n",
              "      <td>15.2</td>\n",
              "      <td>12.7</td>\n",
              "      <td>3.513240</td>\n",
              "    </tr>\n",
              "    <tr>\n",
              "      <th>Black_or_African_American</th>\n",
              "      <td>1.128571</td>\n",
              "      <td>0.0</td>\n",
              "      <td>2.4</td>\n",
              "      <td>1.6</td>\n",
              "      <td>1.090435</td>\n",
              "    </tr>\n",
              "    <tr>\n",
              "      <th>Black_or_African_American_female</th>\n",
              "      <td>0.742857</td>\n",
              "      <td>0.0</td>\n",
              "      <td>2.2</td>\n",
              "      <td>0.8</td>\n",
              "      <td>0.822308</td>\n",
              "    </tr>\n",
              "    <tr>\n",
              "      <th>Female_total</th>\n",
              "      <td>51.585714</td>\n",
              "      <td>42.0</td>\n",
              "      <td>89.1</td>\n",
              "      <td>45.1</td>\n",
              "      <td>16.762202</td>\n",
              "    </tr>\n",
              "    <tr>\n",
              "      <th>...</th>\n",
              "      <th>...</th>\n",
              "      <td>...</td>\n",
              "      <td>...</td>\n",
              "      <td>...</td>\n",
              "      <td>...</td>\n",
              "      <td>...</td>\n",
              "    </tr>\n",
              "    <tr>\n",
              "      <th rowspan=\"5\" valign=\"top\">eBay</th>\n",
              "      <th>Underrepresented_minorities</th>\n",
              "      <td>7.842857</td>\n",
              "      <td>4.4</td>\n",
              "      <td>16.7</td>\n",
              "      <td>6.8</td>\n",
              "      <td>4.082833</td>\n",
              "    </tr>\n",
              "    <tr>\n",
              "      <th>Underrepresented_minorities_female</th>\n",
              "      <td>3.400000</td>\n",
              "      <td>1.4</td>\n",
              "      <td>8.7</td>\n",
              "      <td>3.0</td>\n",
              "      <td>2.466441</td>\n",
              "    </tr>\n",
              "    <tr>\n",
              "      <th>White</th>\n",
              "      <td>58.828571</td>\n",
              "      <td>37.6</td>\n",
              "      <td>77.1</td>\n",
              "      <td>60.9</td>\n",
              "      <td>14.869624</td>\n",
              "    </tr>\n",
              "    <tr>\n",
              "      <th>White_female</th>\n",
              "      <td>21.671429</td>\n",
              "      <td>10.3</td>\n",
              "      <td>36.2</td>\n",
              "      <td>23.4</td>\n",
              "      <td>8.256253</td>\n",
              "    </tr>\n",
              "    <tr>\n",
              "      <th>Women_of_color</th>\n",
              "      <td>14.528571</td>\n",
              "      <td>7.1</td>\n",
              "      <td>19.1</td>\n",
              "      <td>15.1</td>\n",
              "      <td>4.033904</td>\n",
              "    </tr>\n",
              "  </tbody>\n",
              "</table>\n",
              "<p>338 rows × 5 columns</p>\n",
              "</div>"
            ],
            "text/plain": [
              "                                           percentage        ...                  \n",
              "                                                 mean   min  ... median        std\n",
              "company demographics                                         ...                  \n",
              "23andMe Asian                               19.285714   5.9  ...   21.7   7.479177\n",
              "        Asian_female                        11.342857   5.9  ...   12.7   3.513240\n",
              "        Black_or_African_American            1.128571   0.0  ...    1.6   1.090435\n",
              "        Black_or_African_American_female     0.742857   0.0  ...    0.8   0.822308\n",
              "        Female_total                        51.585714  42.0  ...   45.1  16.762202\n",
              "...                                               ...   ...  ...    ...        ...\n",
              "eBay    Underrepresented_minorities          7.842857   4.4  ...    6.8   4.082833\n",
              "        Underrepresented_minorities_female   3.400000   1.4  ...    3.0   2.466441\n",
              "        White                               58.828571  37.6  ...   60.9  14.869624\n",
              "        White_female                        21.671429  10.3  ...   23.4   8.256253\n",
              "        Women_of_color                      14.528571   7.1  ...   15.1   4.033904\n",
              "\n",
              "[338 rows x 5 columns]"
            ]
          },
          "metadata": {},
          "execution_count": 131
        }
      ]
    },
    {
      "cell_type": "markdown",
      "metadata": {
        "id": "AwsBLkqecj0A"
      },
      "source": [
        "Upon examination, I categorized based on company and demographics because I wanted the statistics to each company.  In the picture above, it tells the diversity level of each company given the demographics that are given"
      ]
    },
    {
      "cell_type": "markdown",
      "metadata": {
        "id": "8sld4_peTAu7"
      },
      "source": [
        "##**Score of Diversity Based on Demographics**\n"
      ]
    },
    {
      "cell_type": "code",
      "metadata": {
        "colab": {
          "base_uri": "https://localhost:8080/"
        },
        "id": "Zjich27pXaeh",
        "outputId": "1d489939-cee9-455c-ba80-0b1ff3b4c676"
      },
      "source": [
        "data_nr = data.groupby(\"demographics\")[\"percentage\"].count().sort_values(ascending=False)[:10:]\n",
        "data_nr"
      ],
      "execution_count": 137,
      "outputs": [
        {
          "output_type": "execute_result",
          "data": {
            "text/plain": [
              "demographics\n",
              "Women_of_color                        1234\n",
              "White_female                          1234\n",
              "White                                 1234\n",
              "Underrepresented_minorities_female    1234\n",
              "Underrepresented_minorities           1234\n",
              "People_of_color                       1234\n",
              "Hispanic_or_Latino_female             1234\n",
              "Hispanic_or_Latino                    1234\n",
              "Female_total                          1234\n",
              "Black_or_African_American_female      1234\n",
              "Name: percentage, dtype: int64"
            ]
          },
          "metadata": {},
          "execution_count": 137
        }
      ]
    },
    {
      "cell_type": "code",
      "metadata": {
        "id": "ySruFP5IINRx",
        "colab": {
          "base_uri": "https://localhost:8080/",
          "height": 496
        },
        "outputId": "ade83571-bc99-49e4-cde8-208a2ed5b3f7"
      },
      "source": [
        "import numpy as np\n",
        "import matplotlib.pyplot as plt\n",
        "import pandas as pd\n",
        "import seaborn as sns\n",
        "% matplotlib inline\n",
        "score_data.groupby(\"demographics\").mean().plot(kind='bar', color='y')\n",
        "plt.ylabel('Average Score')\n",
        "plt.title('Score Based on Diversity') \n",
        "plt.xlabel('Diversity')\n",
        "plt.legend()\n",
        "plt.show()\n"
      ],
      "execution_count": 133,
      "outputs": [
        {
          "output_type": "display_data",
          "data": {
            "image/png": "[encoded data removed]",
            "text/plain": [
              "<Figure size 432x288 with 1 Axes>"
            ]
          },
          "metadata": {
            "needs_background": "light"
          }
        }
      ]
    },
    {
      "cell_type": "markdown",
      "metadata": {
        "id": "lPjfWaKbgKop"
      },
      "source": [
        "As you can tell, the white race holds a predominant standing in a working environment.  On top of it, in a gender manner, white men hold the top spot for the most gender and race in a working environment"
      ]
    },
    {
      "cell_type": "markdown",
      "metadata": {
        "id": "3IkTmyqEkGuu"
      },
      "source": [
        "##**Score of Diversity Based on Company**"
      ]
    },
    {
      "cell_type": "code",
      "metadata": {
        "id": "vd9NfF-3PnZG",
        "colab": {
          "base_uri": "https://localhost:8080/",
          "height": 297
        },
        "outputId": "12c02933-d6af-450d-b668-e8f4cc89aed1"
      },
      "source": [
        "import numpy as np\n",
        "import matplotlib.pyplot as plt\n",
        "import pandas as pd\n",
        "import seaborn as sns\n",
        "% matplotlib inline\n",
        "score_data.groupby(\"company\").mean().plot(kind='bar', color = 'g')\n",
        "plt.ylabel('Average Score')\n",
        "plt.title('Score of Company Diversity') ## score\n",
        "plt.xlabel('Company')\n",
        "plt.legend()\n",
        "\n",
        "plt.tight_layout()\n",
        "plt.show()"
      ],
      "execution_count": 134,
      "outputs": [
        {
          "output_type": "display_data",
          "data": {
            "image/png": "[encoded data removed]",
            "text/plain": [
              "<Figure size 432x288 with 1 Axes>"
            ]
          },
          "metadata": {
            "needs_background": "light"
          }
        }
      ]
    },
    {
      "cell_type": "markdown",
      "metadata": {
        "id": "0KCeGt14hthn"
      },
      "source": [
        "In the above graph, you will see that a majority of these companies are relatively the same in a score point of view.  However, 23andMe is the highest meaning that they are the most diverse company and the company View is the least meaning that out of all of the companies, they are the least diverse."
      ]
    },
    {
      "cell_type": "markdown",
      "metadata": {
        "id": "RCiYuyDGkNe1"
      },
      "source": [
        "##**Score of Diversity Based on Job Category**"
      ]
    },
    {
      "cell_type": "code",
      "metadata": {
        "id": "ffHwD9G5PtGL",
        "colab": {
          "base_uri": "https://localhost:8080/",
          "height": 619
        },
        "outputId": "e7a09c4e-1d39-4d70-a639-dc8ce69da169"
      },
      "source": [
        "import numpy as np\n",
        "import matplotlib.pyplot as plt\n",
        "import pandas as pd\n",
        "import seaborn as sns\n",
        "% matplotlib inline\n",
        "score_data.groupby(\"job category\").mean().plot(kind='bar', color = 'r')\n",
        "plt.ylabel('Average Score')\n",
        "plt.title('Diversity Based on Job Cateogry') # score\n",
        "plt.xlabel('Job Categories')\n",
        "plt.legend()\n",
        "\n",
        "plt.tight_layout()\n",
        "plt.show()\n",
        "\n",
        "#sort data before plotting in a descending order to see what is the best for this one and the one above in roder to see what is the best"
      ],
      "execution_count": 135,
      "outputs": [
        {
          "output_type": "stream",
          "name": "stderr",
          "text": [
            "/usr/local/lib/python3.7/dist-packages/ipykernel_launcher.py:12: UserWarning: Tight layout not applied. The bottom and top margins cannot be made large enough to accommodate all axes decorations. \n",
            "  if sys.path[0] == '':\n"
          ]
        },
        {
          "output_type": "display_data",
          "data": {
            "image/png": "[encoded data removed]",
            "text/plain": [
              "<Figure size 432x288 with 1 Axes>"
            ]
          },
          "metadata": {
            "needs_background": "light"
          }
        }
      ]
    },
    {
      "cell_type": "markdown",
      "metadata": {
        "id": "Xmb_5cIIk-2d"
      },
      "source": [
        "according to the graph above, executives are the least diverse out all other job positions.  You will see that the graph shows what Executives, Managers, and Professionals would be averaged together as well as their diversity score separately.  Out of those 3 categories, Managers are the most diverse allowing for the bar with all 3 to be higher than their least diverse subcategory.  Out of every single job category, all workers received an average score of 20 out of 100 for being diverse.  While 20 is not a great score, it is better than the other scores."
      ]
    },
    {
      "cell_type": "markdown",
      "metadata": {
        "id": "Nf5ZraR0hWOX"
      },
      "source": [
        "##**Conclusion**"
      ]
    },
    {
      "cell_type": "markdown",
      "metadata": {
        "id": "V5LzS2WZhZQm"
      },
      "source": [
        "Based on the graphs given, there are a lot of companies that are diverse and have other races and gender.  However, that being said, it is not as diverse as it should/could be.  On average, there are more white men working in a company than any other male of any other race."
      ]
    },
    {
      "cell_type": "markdown",
      "metadata": {
        "id": "MZQjlT7Vhc1N"
      },
      "source": [
        "##**Citations**"
      ]
    },
    {
      "cell_type": "markdown",
      "metadata": {
        "id": "G_2zpzURhec0"
      },
      "source": [
        " https://www.kaggle.com/rtatman/silicon-valley-diversity-data\n",
        " "
      ]
    }
  ]
}